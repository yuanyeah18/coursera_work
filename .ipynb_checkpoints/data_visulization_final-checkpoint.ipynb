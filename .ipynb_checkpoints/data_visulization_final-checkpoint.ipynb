{
 "cells": [
  {
   "cell_type": "code",
   "execution_count": 5,
   "metadata": {},
   "outputs": [
    {
     "ename": "SyntaxError",
     "evalue": "'return' outside function (<ipython-input-5-76f68c2e466e>, line 5)",
     "output_type": "error",
     "traceback": [
      "\u001b[0;36m  File \u001b[0;32m\"<ipython-input-5-76f68c2e466e>\"\u001b[0;36m, line \u001b[0;32m5\u001b[0m\n\u001b[0;31m    return df\u001b[0m\n\u001b[0m             ^\u001b[0m\n\u001b[0;31mSyntaxError\u001b[0m\u001b[0;31m:\u001b[0m 'return' outside function\n"
     ]
    }
   ],
   "source": [
    "import pandas as pd\n",
    "import matplotlib.pyplot as plt\n",
    "from IPython.display import HTML, Javascript\n",
    "df = pd.read_csv(\"/Users/yeyuan/Desktop/python/python例子/Topic_Survey_Assignment.csv\",index_col=0)\n",
    "return df\n",
    "# print('Data downloaded and read into a dataframe!')\n",
    "# print(pd.df.head(5))\n",
    "# ax= df.plot(kind='bar',  figsize=(20, 8),width=0.8, rot=90,color=['#5cb85c', '#5bc0de', '#d9534f'])\n",
    "# plt.xlabel('field', fontsize= 14) # add to x-label to the plot\n",
    "# plt.ylabel('PERCENTAGE', fontsize= 14) # add y-label to the plot\n",
    "# plt.title('Percentage of the respondents interest', fontsize= 16)\n",
    "# plt.legend(fontsize= 14)\n",
    "# df.sort_values(by='Very interested', ascending=True, inplace=True)\n",
    "\n",
    "# # Add this loop to add the annotations\n",
    "# for p in ax.patches:\n",
    "#     width, height = p.get_width(), p.get_height()\n",
    "#     x, y = p.get_xy()\n",
    "#     ax.annotate('{:.0%}'.format(height), (p.get_x()+.15*width, p.get_y() + height + 0.01))\n",
    "\n",
    "\n",
    "# # 或者用这个来是边框消失\n",
    "# ax.spines['top'].set_visible(False)\n",
    "# ax.spines['right'].set_visible(False)\n",
    "# ax.spines['left'].set_visible(False)\n",
    "# # plt.tick_params(top='off', bottom='off', left='off', right='off', labelleft='off', labelbottom='on')\n",
    "\n",
    "# plt.show()"
   ]
  },
  {
   "cell_type": "code",
   "execution_count": null,
   "metadata": {},
   "outputs": [],
   "source": []
  },
  {
   "cell_type": "code",
   "execution_count": null,
   "metadata": {},
   "outputs": [],
   "source": []
  }
 ],
 "metadata": {
  "kernelspec": {
   "display_name": "Python 3",
   "language": "python",
   "name": "python3"
  },
  "language_info": {
   "codemirror_mode": {
    "name": "ipython",
    "version": 3
   },
   "file_extension": ".py",
   "mimetype": "text/x-python",
   "name": "python",
   "nbconvert_exporter": "python",
   "pygments_lexer": "ipython3",
   "version": "3.7.0"
  }
 },
 "nbformat": 4,
 "nbformat_minor": 2
}
