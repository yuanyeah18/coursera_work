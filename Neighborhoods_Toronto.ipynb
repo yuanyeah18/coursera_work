{
 "cells": [
  {
   "cell_type": "markdown",
   "metadata": {},
   "source": [
    "# Peer-graded Assignment: Segmenting and Clustering Neighborhoods in Toronto"
   ]
  },
  {
   "cell_type": "markdown",
   "metadata": {},
   "source": [
    " download all the dependencies that we will need."
   ]
  },
  {
   "cell_type": "code",
   "execution_count": null,
   "metadata": {},
   "outputs": [],
   "source": [
    "import numpy as np # library to handle data in a vectorized manner\n",
    "\n",
    "import pandas as pd # library for data analsysis\n",
    "pd.set_option('display.max_columns', None)\n",
    "pd.set_option('display.max_rows', None)\n",
    "\n",
    "import json # library to handle JSON files\n",
    "\n",
    "from geopy.geocoders import Nominatim # convert an address into latitude and longitude values\n",
    "\n",
    "import requests # library to handle requests\n",
    "from pandas.io.json import json_normalize # tranform JSON file into a pandas dataframe\n",
    "\n",
    "# Matplotlib and associated plotting modules\n",
    "import matplotlib.cm as cm\n",
    "import matplotlib.colors as colors\n",
    "\n",
    "# import k-means from clustering stage\n",
    "from sklearn.cluster import KMeans\n",
    "\n",
    "import folium # map rendering library\n",
    "import requests\n",
    "from lxml import etree\n",
    "\n",
    "print('Libraries imported.')"
   ]
  },
  {
   "cell_type": "code",
   "execution_count": null,
   "metadata": {},
   "outputs": [],
   "source": [
    "from urllib.request import urlopen\n",
    "from bs4 import BeautifulSoup\n",
    "import csv\n",
    "from urllib.request import urlopen\n",
    "from bs4 import BeautifulSoup\n",
    "html = urlopen('https://en.wikipedia.org/wiki/List_of_postal_codes_of_Canada:_M')\n",
    "bsObj = BeautifulSoup(html, \"html.parser\")\n",
    "#The main comparison table is currently the first table on the page\n",
    "table = bsObj.findAll(\"table\",{\"class\":\"wikitable\"})[0]\n",
    "#就本例使用bs4分析来说， 其实得到的是bs4.element.ResultSet \n",
    "#从字面翻译，可理解成bs4的结果集，不过应该是一个列表， 而要提取里面的内容，就加上[0]\n",
    "#此时从bs4的角度来说，得到了一个bs4.element.Tag ， 从列表的内容提取来\n",
    "#说得到了列表里第一个元素的内容。\n",
    "# print(table)\n",
    "rows = table.findAll(\"tr\")\n",
    "# print(rows) 这一行是得到表格中所有按行的内容\n",
    "\n",
    "csvFile = open(\"tt.csv\", 'wt', newline='', encoding='utf-8')\n",
    "#当开始写入csv的时候，是按行写的，包含了表格头的内容\n",
    "writer = csv.writer(csvFile)\n",
    "try:\n",
    "    for row in rows:\n",
    "        csvRow = []\n",
    "        for cell in row.findAll(['td']):\n",
    "            csvRow.append(cell.get_text())\n",
    "        writer.writerow(csvRow)\n",
    "finally:\n",
    "    csvFile.close()\n",
    "    \n",
    "\n"
   ]
  },
  {
   "cell_type": "code",
   "execution_count": null,
   "metadata": {},
   "outputs": [],
   "source": [
    "\n",
    "df = pd.read_csv(\"tt.csv\")\n",
    "print ('Data read into a pandas dataframe!')\n",
    "\n",
    "\n",
    "\n",
    "# 如果需要改列名称 用 \n",
    "df.columns = ['Postcode', 'Borough', 'Neighbourhood'] \n",
    "df.dtypes\n",
    "df.head()\n",
    "# df.head"
   ]
  },
  {
   "cell_type": "markdown",
   "metadata": {},
   "source": [
    "file is a dataframe, and dtypes is an attribute\n",
    "df.dtypes （显示 每一个serious 的datatype）\n",
    "\n",
    "When you access dtypes, a Series is returned:\n",
    "type(df.dtypes)  ----- pandas.core.series.Series\n",
    "\n",
    "When you call df.dtypes(), you are effectively doing series = df.dtype; series() which is invalid, since series is an object (not a function, or an object with __call__ defined)."
   ]
  },
  {
   "cell_type": "markdown",
   "metadata": {},
   "source": [
    "clean data"
   ]
  },
  {
   "cell_type": "code",
   "execution_count": null,
   "metadata": {},
   "outputs": [],
   "source": [
    "\n",
    "df=df.replace(['Not assigned','Not assigned\\n'],np.nan)\n",
    "df= df.dropna(axis = 0,how='any')\n",
    "df"
   ]
  },
  {
   "cell_type": "markdown",
   "metadata": {},
   "source": [
    "those codes can't work. can some one explain why\n",
    "--------------\n",
    "df[df.Neighbourhood != 'Not assigned\\n']    \n",
    "df[\"Neighbourhood\"].replace('Not assigned',np.nan)    \n",
    "df.dropna(subset=[Neighbourhood], axis=0, inplace = True)"
   ]
  },
  {
   "cell_type": "markdown",
   "metadata": {},
   "source": [
    "# you can also use this to drop"
   ]
  },
  {
   "cell_type": "code",
   "execution_count": null,
   "metadata": {
    "scrolled": true
   },
   "outputs": [],
   "source": [
    "# # Drop a row by condition\n",
    "# df= df.where(df !=\"Not assigned\\n\").dropna(axis = 0)\n",
    "# df= df[df.Borough != 'Not assigned']\n",
    "# df\n"
   ]
  },
  {
   "cell_type": "code",
   "execution_count": null,
   "metadata": {},
   "outputs": [],
   "source": [
    "df = df.groupby(['Postcode', 'Borough']).agg({'Neighbourhood':','.join}).reset_index()\n",
    "df"
   ]
  },
  {
   "cell_type": "code",
   "execution_count": null,
   "metadata": {},
   "outputs": [],
   "source": [
    "df.shape"
   ]
  }
 ],
 "metadata": {
  "kernelspec": {
   "display_name": "Python 3",
   "language": "python",
   "name": "python3"
  },
  "language_info": {
   "codemirror_mode": {
    "name": "ipython",
    "version": 3
   },
   "file_extension": ".py",
   "mimetype": "text/x-python",
   "name": "python",
   "nbconvert_exporter": "python",
   "pygments_lexer": "ipython3",
   "version": "3.7.0"
  }
 },
 "nbformat": 4,
 "nbformat_minor": 2
}
