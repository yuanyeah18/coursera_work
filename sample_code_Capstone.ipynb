{
 "cells": [
  {
   "cell_type": "code",
   "execution_count": 1,
   "metadata": {},
   "outputs": [
    {
     "name": "stdout",
     "output_type": "stream",
     "text": [
      "import successful\n"
     ]
    }
   ],
   "source": [
    "#importing the necessary libraries\n",
    "\n",
    "import numpy as np\n",
    "import pandas as pd\n",
    "from bs4 import BeautifulSoup\n",
    "import requests\n",
    "print('import successful')"
   ]
  },
  {
   "cell_type": "code",
   "execution_count": 2,
   "metadata": {},
   "outputs": [
    {
     "name": "stdout",
     "output_type": "stream",
     "text": [
      "<title>List of postal codes of Canada: M - Wikipedia</title>\n",
      "[<td>M1A</td>, <td>Not assigned</td>, <td>Not assigned\n",
      "</td>, <td>M2A</td>, <td>Not assigned</td>, <td>Not assigned\n",
      "</td>, <td>M3A</td>, <td><a href=\"/wiki/North_York\" title=\"North York\">North York</a></td>, <td><a href=\"/wiki/Parkwoods\" title=\"Parkwoods\">Parkwoods</a>\n",
      "</td>, <td>M4A</td>, <td><a href=\"/wiki/North_York\" title=\"North York\">North York</a></td>, <td><a href=\"/wiki/Victoria_Village\" title=\"Victoria Village\">Victoria Village</a>\n",
      "</td>, <td>M5A</td>, <td><a href=\"/wiki/Downtown_Toronto\" title=\"Downtown Toronto\">Downtown Toronto</a></td>, <td><a href=\"/wiki/Harbourfront_(Toronto)\" title=\"Harbourfront (Toronto)\">Harbourfront</a>\n",
      "</td>, <td>M5A</td>, <td><a href=\"/wiki/Downtown_Toronto\" title=\"Downtown Toronto\">Downtown Toronto</a></td>, <td><a href=\"/wiki/Regent_Park\" title=\"Regent Park\">Regent Park</a>\n",
      "</td>, <td>M6A</td>, <td><a href=\"/wiki/North_York\" title=\"North York\">North York</a></td>]\n"
     ]
    },
    {
     "data": {
      "text/plain": [
       "[['M1A', 'Not assigned', 'Not assigned'],\n",
       " ['M2A', 'Not assigned', 'Not assigned'],\n",
       " ['M3A', 'North York', 'Parkwoods'],\n",
       " ['M4A', 'North York', 'Victoria Village'],\n",
       " ['M5A', 'Downtown Toronto', 'Harbourfront'],\n",
       " ['M5A', 'Downtown Toronto', 'Regent Park'],\n",
       " ['M6A', 'North York', 'Lawrence Heights'],\n",
       " ['M6A', 'North York', 'Lawrence Manor'],\n",
       " ['M7A', \"Queen's Park\", 'Not assigned'],\n",
       " ['M8A', 'Not assigned', 'Not assigned'],\n",
       " ['M9A', 'Etobicoke', 'Islington Avenue'],\n",
       " ['M1B', 'Scarborough', 'Rouge'],\n",
       " ['M1B', 'Scarborough', 'Malvern'],\n",
       " ['M2B', 'Not assigned', 'Not assigned'],\n",
       " ['M3B', 'North York', 'Don Mills North'],\n",
       " ['M4B', 'East York', 'Woodbine Gardens'],\n",
       " ['M4B', 'East York', 'Parkview Hill'],\n",
       " ['M5B', 'Downtown Toronto', 'Ryerson'],\n",
       " ['M5B', 'Downtown Toronto', 'Garden District'],\n",
       " ['M6B', 'North York', 'Glencairn'],\n",
       " ['M7B', 'Not assigned', 'Not assigned'],\n",
       " ['M8B', 'Not assigned', 'Not assigned'],\n",
       " ['M9B', 'Etobicoke', 'Cloverdale'],\n",
       " ['M9B', 'Etobicoke', 'Islington'],\n",
       " ['M9B', 'Etobicoke', 'Martin Grove'],\n",
       " ['M9B', 'Etobicoke', 'Princess Gardens'],\n",
       " ['M9B', 'Etobicoke', 'West Deane Park'],\n",
       " ['M1C', 'Scarborough', 'Highland Creek'],\n",
       " ['M1C', 'Scarborough', 'Rouge Hill'],\n",
       " ['M1C', 'Scarborough', 'Port Union'],\n",
       " ['M2C', 'Not assigned', 'Not assigned'],\n",
       " ['M3C', 'North York', 'Flemingdon Park'],\n",
       " ['M3C', 'North York', 'Don Mills South'],\n",
       " ['M4C', 'East York', 'Woodbine Heights'],\n",
       " ['M5C', 'Downtown Toronto', 'St. James Town'],\n",
       " ['M6C', 'York', 'Humewood-Cedarvale'],\n",
       " ['M7C', 'Not assigned', 'Not assigned'],\n",
       " ['M8C', 'Not assigned', 'Not assigned'],\n",
       " ['M9C', 'Etobicoke', 'Bloordale Gardens'],\n",
       " ['M9C', 'Etobicoke', 'Eringate'],\n",
       " ['M9C', 'Etobicoke', 'Markland Wood'],\n",
       " ['M9C', 'Etobicoke', 'Old Burnhamthorpe'],\n",
       " ['M1E', 'Scarborough', 'Guildwood'],\n",
       " ['M1E', 'Scarborough', 'Morningside'],\n",
       " ['M1E', 'Scarborough', 'West Hill'],\n",
       " ['M2E', 'Not assigned', 'Not assigned'],\n",
       " ['M3E', 'Not assigned', 'Not assigned'],\n",
       " ['M4E', 'East Toronto', 'The Beaches'],\n",
       " ['M5E', 'Downtown Toronto', 'Berczy Park'],\n",
       " ['M6E', 'York', 'Caledonia-Fairbanks'],\n",
       " ['M7E', 'Not assigned', 'Not assigned'],\n",
       " ['M8E', 'Not assigned', 'Not assigned'],\n",
       " ['M9E', 'Not assigned', 'Not assigned'],\n",
       " ['M1G', 'Scarborough', 'Woburn'],\n",
       " ['M2G', 'Not assigned', 'Not assigned'],\n",
       " ['M3G', 'Not assigned', 'Not assigned'],\n",
       " ['M4G', 'East York', 'Leaside'],\n",
       " ['M5G', 'Downtown Toronto', 'Central Bay Street'],\n",
       " ['M6G', 'Downtown Toronto', 'Christie'],\n",
       " ['M7G', 'Not assigned', 'Not assigned'],\n",
       " ['M8G', 'Not assigned', 'Not assigned'],\n",
       " ['M9G', 'Not assigned', 'Not assigned'],\n",
       " ['M1H', 'Scarborough', 'Cedarbrae'],\n",
       " ['M2H', 'North York', 'Hillcrest Village'],\n",
       " ['M3H', 'North York', 'Bathurst Manor'],\n",
       " ['M3H', 'North York', 'Downsview North'],\n",
       " ['M3H', 'North York', 'Wilson Heights'],\n",
       " ['M4H', 'East York', 'Thorncliffe Park'],\n",
       " ['M5H', 'Downtown Toronto', 'Adelaide'],\n",
       " ['M5H', 'Downtown Toronto', 'King'],\n",
       " ['M5H', 'Downtown Toronto', 'Richmond'],\n",
       " ['M6H', 'West Toronto', 'Dovercourt Village'],\n",
       " ['M6H', 'West Toronto', 'Dufferin'],\n",
       " ['M7H', 'Not assigned', 'Not assigned'],\n",
       " ['M8H', 'Not assigned', 'Not assigned'],\n",
       " ['M9H', 'Not assigned', 'Not assigned'],\n",
       " ['M1J', 'Scarborough', 'Scarborough Village'],\n",
       " ['M2J', 'North York', 'Fairview'],\n",
       " ['M2J', 'North York', 'Henry Farm'],\n",
       " ['M2J', 'North York', 'Oriole'],\n",
       " ['M3J', 'North York', 'Northwood Park'],\n",
       " ['M3J', 'North York', 'York University'],\n",
       " ['M4J', 'East York', 'East Toronto'],\n",
       " ['M5J', 'Downtown Toronto', 'Harbourfront East'],\n",
       " ['M5J', 'Downtown Toronto', 'Toronto Islands'],\n",
       " ['M5J', 'Downtown Toronto', 'Union Station'],\n",
       " ['M6J', 'West Toronto', 'Little Portugal'],\n",
       " ['M6J', 'West Toronto', 'Trinity'],\n",
       " ['M7J', 'Not assigned', 'Not assigned'],\n",
       " ['M8J', 'Not assigned', 'Not assigned'],\n",
       " ['M9J', 'Not assigned', 'Not assigned'],\n",
       " ['M1K', 'Scarborough', 'East Birchmount Park'],\n",
       " ['M1K', 'Scarborough', 'Ionview'],\n",
       " ['M1K', 'Scarborough', 'Kennedy Park'],\n",
       " ['M2K', 'North York', 'Bayview Village'],\n",
       " ['M3K', 'North York', 'CFB Toronto'],\n",
       " ['M3K', 'North York', 'Downsview East'],\n",
       " ['M4K', 'East Toronto', 'The Danforth West'],\n",
       " ['M4K', 'East Toronto', 'Riverdale'],\n",
       " ['M5K', 'Downtown Toronto', 'Design Exchange'],\n",
       " ['M5K', 'Downtown Toronto', 'Toronto Dominion Centre'],\n",
       " ['M6K', 'West Toronto', 'Brockton'],\n",
       " ['M6K', 'West Toronto', 'Exhibition Place'],\n",
       " ['M6K', 'West Toronto', 'Parkdale Village'],\n",
       " ['M7K', 'Not assigned', 'Not assigned'],\n",
       " ['M8K', 'Not assigned', 'Not assigned'],\n",
       " ['M9K', 'Not assigned', 'Not assigned'],\n",
       " ['M1L', 'Scarborough', 'Clairlea'],\n",
       " ['M1L', 'Scarborough', 'Golden Mile'],\n",
       " ['M1L', 'Scarborough', 'Oakridge'],\n",
       " ['M2L', 'North York', 'Silver Hills'],\n",
       " ['M2L', 'North York', 'York Mills'],\n",
       " ['M3L', 'North York', 'Downsview West'],\n",
       " ['M4L', 'East Toronto', 'The Beaches West'],\n",
       " ['M4L', 'East Toronto', 'India Bazaar'],\n",
       " ['M5L', 'Downtown Toronto', 'Commerce Court'],\n",
       " ['M5L', 'Downtown Toronto', 'Victoria Hotel'],\n",
       " ['M6L', 'North York', 'Maple Leaf Park'],\n",
       " ['M6L', 'North York', 'North Park'],\n",
       " ['M6L', 'North York', 'Upwood Park'],\n",
       " ['M7L', 'Not assigned', 'Not assigned'],\n",
       " ['M8L', 'Not assigned', 'Not assigned'],\n",
       " ['M9L', 'North York', 'Humber Summit'],\n",
       " ['M1M', 'Scarborough', 'Cliffcrest'],\n",
       " ['M1M', 'Scarborough', 'Cliffside'],\n",
       " ['M1M', 'Scarborough', 'Scarborough Village West'],\n",
       " ['M2M', 'North York', 'Newtonbrook'],\n",
       " ['M2M', 'North York', 'Willowdale'],\n",
       " ['M3M', 'North York', 'Downsview Central'],\n",
       " ['M4M', 'East Toronto', 'Studio District'],\n",
       " ['M5M', 'North York', 'Bedford Park'],\n",
       " ['M5M', 'North York', 'Lawrence Manor East'],\n",
       " ['M6M', 'York', 'Del Ray'],\n",
       " ['M6M', 'York', 'Keelsdale'],\n",
       " ['M6M', 'York', 'Mount Dennis'],\n",
       " ['M6M', 'York', 'Silverthorn'],\n",
       " ['M7M', 'Not assigned', 'Not assigned'],\n",
       " ['M8M', 'Not assigned', 'Not assigned'],\n",
       " ['M9M', 'North York', 'Emery'],\n",
       " ['M9M', 'North York', 'Humberlea'],\n",
       " ['M1N', 'Scarborough', 'Birch Cliff'],\n",
       " ['M1N', 'Scarborough', 'Cliffside West'],\n",
       " ['M2N', 'North York', 'Willowdale South'],\n",
       " ['M3N', 'North York', 'Downsview Northwest'],\n",
       " ['M4N', 'Central Toronto', 'Lawrence Park'],\n",
       " ['M5N', 'Central Toronto', 'Roselawn'],\n",
       " ['M6N', 'York', 'The Junction North'],\n",
       " ['M6N', 'York', 'Runnymede'],\n",
       " ['M7N', 'Not assigned', 'Not assigned'],\n",
       " ['M8N', 'Not assigned', 'Not assigned'],\n",
       " ['M9N', 'York', 'Weston'],\n",
       " ['M1P', 'Scarborough', 'Dorset Park'],\n",
       " ['M1P', 'Scarborough', 'Scarborough Town Centre'],\n",
       " ['M1P', 'Scarborough', 'Wexford Heights'],\n",
       " ['M2P', 'North York', 'York Mills West'],\n",
       " ['M3P', 'Not assigned', 'Not assigned'],\n",
       " ['M4P', 'Central Toronto', 'Davisville North'],\n",
       " ['M5P', 'Central Toronto', 'Forest Hill North'],\n",
       " ['M5P', 'Central Toronto', 'Forest Hill West'],\n",
       " ['M6P', 'West Toronto', 'High Park'],\n",
       " ['M6P', 'West Toronto', 'The Junction South'],\n",
       " ['M7P', 'Not assigned', 'Not assigned'],\n",
       " ['M8P', 'Not assigned', 'Not assigned'],\n",
       " ['M9P', 'Etobicoke', 'Westmount'],\n",
       " ['M1R', 'Scarborough', 'Maryvale'],\n",
       " ['M1R', 'Scarborough', 'Wexford'],\n",
       " ['M2R', 'North York', 'Willowdale West'],\n",
       " ['M3R', 'Not assigned', 'Not assigned'],\n",
       " ['M4R', 'Central Toronto', 'North Toronto West'],\n",
       " ['M5R', 'Central Toronto', 'The Annex'],\n",
       " ['M5R', 'Central Toronto', 'North Midtown'],\n",
       " ['M5R', 'Central Toronto', 'Yorkville'],\n",
       " ['M6R', 'West Toronto', 'Parkdale'],\n",
       " ['M6R', 'West Toronto', 'Roncesvalles'],\n",
       " ['M7R', 'Mississauga', 'Canada Post Gateway Processing Centre'],\n",
       " ['M8R', 'Not assigned', 'Not assigned'],\n",
       " ['M9R', 'Etobicoke', 'Kingsview Village'],\n",
       " ['M9R', 'Etobicoke', 'Martin Grove Gardens'],\n",
       " ['M9R', 'Etobicoke', 'Richview Gardens'],\n",
       " ['M9R', 'Etobicoke', 'St. Phillips'],\n",
       " ['M1S', 'Scarborough', 'Agincourt'],\n",
       " ['M2S', 'Not assigned', 'Not assigned'],\n",
       " ['M3S', 'Not assigned', 'Not assigned'],\n",
       " ['M4S', 'Central Toronto', 'Davisville'],\n",
       " ['M5S', 'Downtown Toronto', 'Harbord'],\n",
       " ['M5S', 'Downtown Toronto', 'University of Toronto'],\n",
       " ['M6S', 'West Toronto', 'Runnymede'],\n",
       " ['M6S', 'West Toronto', 'Swansea'],\n",
       " ['M7S', 'Not assigned', 'Not assigned'],\n",
       " ['M8S', 'Not assigned', 'Not assigned'],\n",
       " ['M9S', 'Not assigned', 'Not assigned'],\n",
       " ['M1T', 'Scarborough', 'Clarks Corners'],\n",
       " ['M1T', 'Scarborough', 'Sullivan'],\n",
       " ['M1T', 'Scarborough', \"Tam O'Shanter\"],\n",
       " ['M2T', 'Not assigned', 'Not assigned'],\n",
       " ['M3T', 'Not assigned', 'Not assigned'],\n",
       " ['M4T', 'Central Toronto', 'Moore Park'],\n",
       " ['M4T', 'Central Toronto', 'Summerhill East'],\n",
       " ['M5T', 'Downtown Toronto', 'Chinatown'],\n",
       " ['M5T', 'Downtown Toronto', 'Grange Park'],\n",
       " ['M5T', 'Downtown Toronto', 'Kensington Market'],\n",
       " ['M6T', 'Not assigned', 'Not assigned'],\n",
       " ['M7T', 'Not assigned', 'Not assigned'],\n",
       " ['M8T', 'Not assigned', 'Not assigned'],\n",
       " ['M9T', 'Not assigned', 'Not assigned'],\n",
       " ['M1V', 'Scarborough', 'Agincourt North'],\n",
       " ['M1V', 'Scarborough', \"L'Amoreaux East\"],\n",
       " ['M1V', 'Scarborough', 'Milliken'],\n",
       " ['M1V', 'Scarborough', 'Steeles East'],\n",
       " ['M2V', 'Not assigned', 'Not assigned'],\n",
       " ['M3V', 'Not assigned', 'Not assigned'],\n",
       " ['M4V', 'Central Toronto', 'Deer Park'],\n",
       " ['M4V', 'Central Toronto', 'Forest Hill SE'],\n",
       " ['M4V', 'Central Toronto', 'Rathnelly'],\n",
       " ['M4V', 'Central Toronto', 'South Hill'],\n",
       " ['M4V', 'Central Toronto', 'Summerhill West'],\n",
       " ['M5V', 'Downtown Toronto', 'CN Tower'],\n",
       " ['M5V', 'Downtown Toronto', 'Bathurst Quay'],\n",
       " ['M5V', 'Downtown Toronto', 'Island airport'],\n",
       " ['M5V', 'Downtown Toronto', 'Harbourfront West'],\n",
       " ['M5V', 'Downtown Toronto', 'King and Spadina'],\n",
       " ['M5V', 'Downtown Toronto', 'Railway Lands'],\n",
       " ['M5V', 'Downtown Toronto', 'South Niagara'],\n",
       " ['M6V', 'Not assigned', 'Not assigned'],\n",
       " ['M7V', 'Not assigned', 'Not assigned'],\n",
       " ['M8V', 'Etobicoke', 'Humber Bay Shores'],\n",
       " ['M8V', 'Etobicoke', 'Mimico South'],\n",
       " ['M8V', 'Etobicoke', 'New Toronto'],\n",
       " ['M9V', 'Etobicoke', 'Albion Gardens'],\n",
       " ['M9V', 'Etobicoke', 'Beaumond Heights'],\n",
       " ['M9V', 'Etobicoke', 'Humbergate'],\n",
       " ['M9V', 'Etobicoke', 'Jamestown'],\n",
       " ['M9V', 'Etobicoke', 'Mount Olive'],\n",
       " ['M9V', 'Etobicoke', 'Silverstone'],\n",
       " ['M9V', 'Etobicoke', 'South Steeles'],\n",
       " ['M9V', 'Etobicoke', 'Thistletown'],\n",
       " ['M1W', 'Scarborough', \"L'Amoreaux West\"],\n",
       " ['M1W', 'Scarborough', 'Steeles West'],\n",
       " ['M2W', 'Not assigned', 'Not assigned'],\n",
       " ['M3W', 'Not assigned', 'Not assigned'],\n",
       " ['M4W', 'Downtown Toronto', 'Rosedale'],\n",
       " ['M5W', 'Downtown Toronto', 'Stn A PO Boxes 25 The Esplanade'],\n",
       " ['M6W', 'Not assigned', 'Not assigned'],\n",
       " ['M7W', 'Not assigned', 'Not assigned'],\n",
       " ['M8W', 'Etobicoke', 'Alderwood'],\n",
       " ['M8W', 'Etobicoke', 'Long Branch'],\n",
       " ['M9W', 'Etobicoke', 'Northwest'],\n",
       " ['M1X', 'Scarborough', 'Upper Rouge'],\n",
       " ['M2X', 'Not assigned', 'Not assigned'],\n",
       " ['M3X', 'Not assigned', 'Not assigned'],\n",
       " ['M4X', 'Downtown Toronto', 'Cabbagetown'],\n",
       " ['M4X', 'Downtown Toronto', 'St. James Town'],\n",
       " ['M5X', 'Downtown Toronto', 'First Canadian Place'],\n",
       " ['M5X', 'Downtown Toronto', 'Underground city'],\n",
       " ['M6X', 'Not assigned', 'Not assigned'],\n",
       " ['M7X', 'Not assigned', 'Not assigned'],\n",
       " ['M8X', 'Etobicoke', 'The Kingsway'],\n",
       " ['M8X', 'Etobicoke', 'Montgomery Road'],\n",
       " ['M8X', 'Etobicoke', 'Old Mill North'],\n",
       " ['M9X', 'Not assigned', 'Not assigned'],\n",
       " ['M1Y', 'Not assigned', 'Not assigned'],\n",
       " ['M2Y', 'Not assigned', 'Not assigned'],\n",
       " ['M3Y', 'Not assigned', 'Not assigned'],\n",
       " ['M4Y', 'Downtown Toronto', 'Church and Wellesley'],\n",
       " ['M5Y', 'Not assigned', 'Not assigned'],\n",
       " ['M6Y', 'Not assigned', 'Not assigned'],\n",
       " ['M7Y', 'East Toronto', 'Business reply mail Processing Centre969 Eastern'],\n",
       " ['M8Y', 'Etobicoke', 'Humber Bay'],\n",
       " ['M8Y', 'Etobicoke', \"King's Mill Park\"],\n",
       " ['M8Y', 'Etobicoke', 'Kingsway Park South East'],\n",
       " ['M8Y', 'Etobicoke', 'Mimico NE'],\n",
       " ['M8Y', 'Etobicoke', 'Old Mill South'],\n",
       " ['M8Y', 'Etobicoke', 'The Queensway East'],\n",
       " ['M8Y', 'Etobicoke', 'Royal York South East'],\n",
       " ['M8Y', 'Etobicoke', 'Sunnylea'],\n",
       " ['M9Y', 'Not assigned', 'Not assigned'],\n",
       " ['M1Z', 'Not assigned', 'Not assigned'],\n",
       " ['M2Z', 'Not assigned', 'Not assigned'],\n",
       " ['M3Z', 'Not assigned', 'Not assigned'],\n",
       " ['M4Z', 'Not assigned', 'Not assigned'],\n",
       " ['M5Z', 'Not assigned', 'Not assigned'],\n",
       " ['M6Z', 'Not assigned', 'Not assigned'],\n",
       " ['M7Z', 'Not assigned', 'Not assigned'],\n",
       " ['M8Z', 'Etobicoke', 'Kingsway Park South West'],\n",
       " ['M8Z', 'Etobicoke', 'Mimico NW'],\n",
       " ['M8Z', 'Etobicoke', 'The Queensway West'],\n",
       " ['M8Z', 'Etobicoke', 'Royal York South West'],\n",
       " ['M8Z', 'Etobicoke', 'South of Bloor'],\n",
       " ['M9Z', 'Not assigned', 'Not assigned']]"
      ]
     },
     "execution_count": 2,
     "metadata": {},
     "output_type": "execute_result"
    }
   ],
   "source": [
    "\n",
    "#obtaining the wikipedia page and using lxml parser\n",
    "source = requests.get('https://en.wikipedia.org/wiki/List_of_postal_codes_of_Canada:_M').text\n",
    "soup = BeautifulSoup(source, 'lxml')\n",
    "print(soup.title)\n",
    "\n",
    "\n",
    "postcode_table = soup.find('table', class_= 'wikitable sortable')\n",
    "table_elements = postcode_table.findAll('td')\n",
    "print(table_elements[:20])\n",
    "\n",
    "len(table_elements) #finding the total number of elements in the table\n",
    "\n",
    "data_table=[]\n",
    "for i in range(0, 867, 3):\n",
    "    split_table_in_columns = [[table_elements[i], table_elements[i+1], table_elements[i+2]] ]\n",
    "    postcode = table_elements[i].text.strip()\n",
    "    bourough = table_elements[i+1].text.strip()\n",
    "    neighbourhood = table_elements[i+2].text.strip()\n",
    "    data_table.append([postcode, bourough, neighbourhood])\n",
    "data_table"
   ]
  },
  {
   "cell_type": "code",
   "execution_count": null,
   "metadata": {},
   "outputs": [],
   "source": [
    "type(data_table)"
   ]
  },
  {
   "cell_type": "code",
   "execution_count": null,
   "metadata": {},
   "outputs": [],
   "source": [
    "df_CanadaPostcodes = pd.DataFrame(data_table)\n",
    "df_CanadaPostcodes.columns = ['Postcode', 'Bourough', 'Neighbourhood']\n",
    "df_CanadaPostcodes.head(10)"
   ]
  },
  {
   "cell_type": "code",
   "execution_count": null,
   "metadata": {},
   "outputs": [],
   "source": [
    "df_CanadaPostcodes.shape #checking the dimensions of the dataframe\n"
   ]
  },
  {
   "cell_type": "code",
   "execution_count": null,
   "metadata": {},
   "outputs": [],
   "source": [
    "\n",
    "df_CanadaPostcodes = df_CanadaPostcodes[~df_CanadaPostcodes['Bourough'].isin(['Not assigned'])]\n",
    "df_CanadaPostcodes.reset_index(inplace=True)\n",
    "df_CanadaPostcodes.drop('index', axis=1, inplace=True)\n",
    "df_CanadaPostcodes.head(10)"
   ]
  },
  {
   "cell_type": "code",
   "execution_count": null,
   "metadata": {},
   "outputs": [],
   "source": [
    "df_CanadaPostcodes = df_CanadaPostcodes.groupby(['Postcode','Bourough'])['Neighbourhood'].apply(', '.join).reset_index()\n",
    "df_CanadaPostcodes"
   ]
  },
  {
   "cell_type": "code",
   "execution_count": null,
   "metadata": {},
   "outputs": [],
   "source": [
    "missing_neighbourhoods = df_CanadaPostcodes.Neighbourhood.values == 'Not assigned'\n",
    "df_CanadaPostcodes.Neighbourhood[missing_neighbourhoods] = df_CanadaPostcodes.Bourough[missing_neighbourhoods]\n",
    "df_CanadaPostcodes"
   ]
  },
  {
   "cell_type": "code",
   "execution_count": null,
   "metadata": {},
   "outputs": [],
   "source": [
    "#importing the csv file that has the geographical coordinates of each postal code and casting it into a new pandas dataframe called geo_data\n",
    "urlfordata=\"http://cocl.us/Geospatial_data\" \n",
    "geo_data=pd.read_csv(urlfordata)\n",
    "geo_data.head(10)"
   ]
  },
  {
   "cell_type": "code",
   "execution_count": null,
   "metadata": {},
   "outputs": [],
   "source": [
    "df_CanadaPostcodes.rename(columns={'Postcode': 'Postal Code'}, inplace=True)\n",
    "#renaming the first column in the first dataframe to match the second dataframe"
   ]
  },
  {
   "cell_type": "code",
   "execution_count": null,
   "metadata": {},
   "outputs": [],
   "source": [
    "final_df=pd.merge(df_CanadaPostcodes, geo_data, on='Postal Code')\n",
    "final_df"
   ]
  },
  {
   "cell_type": "code",
   "execution_count": null,
   "metadata": {},
   "outputs": [],
   "source": [
    "#importing the libraries necessary for analysis\n",
    "\n",
    "import numpy as np # library to handle data in a vectorized manner\n",
    "\n",
    "import pandas as pd # library for data analsysis\n",
    "pd.set_option('display.max_columns', None)\n",
    "pd.set_option('display.max_rows', None)\n",
    "\n",
    "import json # library to handle JSON files\n",
    "\n",
    "!conda install -c conda-forge geopy --yes # uncomment this line if you haven't completed the Foursquare API lab\n",
    "from geopy.geocoders import Nominatim # convert an address into latitude and longitude values\n",
    "\n",
    "import requests # library to handle requests\n",
    "from pandas.io.json import json_normalize # tranform JSON file into a pandas dataframe\n",
    "\n",
    "# Matplotlib and associated plotting modules\n",
    "import matplotlib.cm as cm\n",
    "import matplotlib.colors as colors\n",
    "\n",
    "# import k-means from clustering stage\n",
    "from sklearn.cluster import KMeans\n",
    "\n",
    "!conda install -c conda-forge folium=0.5.0 --yes # uncomment this line if you haven't completed the Foursquare API lab\n",
    "import folium # map rendering library\n",
    "\n",
    "print('Libraries imported.'"
   ]
  },
  {
   "cell_type": "code",
   "execution_count": null,
   "metadata": {},
   "outputs": [],
   "source": [
    "##Use geopy library to get the latitude and longitude values of Toronto City.\n",
    "\n",
    "address = 'Toronto'\n",
    "geolocator = Nominatim()\n",
    "location = geolocator.geocode(address)\n",
    "latitude = location.latitude\n",
    "longitude = location.longitude\n",
    "print('The geograpical coordinate of Toronto City are {}, {}.'.format(latitude, longitude))"
   ]
  },
  {
   "cell_type": "code",
   "execution_count": null,
   "metadata": {},
   "outputs": [],
   "source": [
    "toronto_df = final_df[final_df['Bourough'].str.contains(\"Toronto\")].reset_index(drop=True)\n",
    "toronto_df.head(50)\n",
    "map_toronto = folium.Map(location=[latitude, longitude], zoom_start=12)"
   ]
  },
  {
   "cell_type": "code",
   "execution_count": null,
   "metadata": {},
   "outputs": [],
   "source": [
    "# add markers to map\n",
    "for lat, lng, bourough, neighbourhood in zip(toronto_df['Latitude'], toronto_df['Longitude'], toronto_df['Bourough'], toronto_df['Neighbourhood']):\n",
    "    label = '{}, {}'.format(neighbourhood, bourough)\n",
    "    label = folium.Popup(label, parse_html=True)\n",
    "    folium.CircleMarker(\n",
    "        [lat, lng],\n",
    "        radius=5,\n",
    "        popup=label,\n",
    "        color='blue',\n",
    "        fill=True,\n",
    "        fill_color='#3186cc',\n",
    "        fill_opacity=0.7,\n",
    "        parse_html=False).add_to(map_toronto)  \n",
    "    \n",
    "map_toronto"
   ]
  },
  {
   "cell_type": "code",
   "execution_count": null,
   "metadata": {},
   "outputs": [],
   "source": [
    "CLIENT_ID = 'O3HJWO2SQD20SWIOPJI5YJJ0S12BVGDGMCNVOE3JC5HJNUER' # your Foursquare ID\n",
    "CLIENT_SECRET = '3WU4HW4ULJEUR3TZWCZARUA1ZL0S5JCUP23XXKKR4FXHNTS5' # your Foursquare Secret\n",
    "VERSION = '20180605' # Foursquare API version\n",
    "\n",
    "print('Your credentails:')\n",
    "print('CLIENT_ID: ' + CLIENT_ID)\n",
    "print('CLIENT_SECRET:' + CLIENT_SECRET)"
   ]
  },
  {
   "cell_type": "code",
   "execution_count": null,
   "metadata": {},
   "outputs": [],
   "source": [
    "#Exploring the first neighborhood in our Toronto dataframe.\n",
    "toronto_df.loc[0, 'Neighbourhood']"
   ]
  },
  {
   "cell_type": "code",
   "execution_count": null,
   "metadata": {},
   "outputs": [],
   "source": [
    "#Get the neighborhood's latitude and longitude values.\n",
    "neighbourhood_latitude = toronto_df.loc[0, 'Latitude'] # neighborhood latitude value\n",
    "neighbourhood_longitude = toronto_df.loc[0, 'Longitude'] # neighborhood longitude value\n",
    "\n",
    "neighbourhood_name = toronto_df.loc[0, 'Neighbourhood'] # neighborhood name\n",
    "\n",
    "print('Latitude and longitude values of {} are {}, {}.'.format(neighbourhood_name, \n",
    "                                                               neighbourhood_latitude, \n",
    "                                                               neighbourhood_longitude))"
   ]
  },
  {
   "cell_type": "code",
   "execution_count": null,
   "metadata": {},
   "outputs": [],
   "source": [
    "#get  top 100 venues that are in 'The Beaches' within a radius of 500 meters.\n",
    "LIMIT = 100 \n",
    "radius = 500\n",
    "\n",
    "url = 'https://api.foursquare.com/v2/venues/explore?&client_id={}&client_secret={}&v={}&ll={},{}&radius={}&limit={}'.format(\n",
    "    CLIENT_ID, \n",
    "    CLIENT_SECRET, \n",
    "    VERSION, \n",
    "    neighbourhood_latitude, \n",
    "    neighbourhood_longitude, \n",
    "    radius, \n",
    "    LIMIT)\n",
    "\n",
    "url"
   ]
  },
  {
   "cell_type": "code",
   "execution_count": 3,
   "metadata": {},
   "outputs": [
    {
     "ename": "NameError",
     "evalue": "name 'url' is not defined",
     "output_type": "error",
     "traceback": [
      "\u001b[0;31m---------------------------------------------------------------------------\u001b[0m",
      "\u001b[0;31mNameError\u001b[0m                                 Traceback (most recent call last)",
      "\u001b[0;32m<ipython-input-3-e958d6172fdd>\u001b[0m in \u001b[0;36m<module>\u001b[0;34m()\u001b[0m\n\u001b[0;32m----> 1\u001b[0;31m \u001b[0mresults\u001b[0m \u001b[0;34m=\u001b[0m \u001b[0mrequests\u001b[0m\u001b[0;34m.\u001b[0m\u001b[0mget\u001b[0m\u001b[0;34m(\u001b[0m\u001b[0murl\u001b[0m\u001b[0;34m)\u001b[0m\u001b[0;34m.\u001b[0m\u001b[0mjson\u001b[0m\u001b[0;34m(\u001b[0m\u001b[0;34m)\u001b[0m\u001b[0;34m\u001b[0m\u001b[0m\n\u001b[0m",
      "\u001b[0;31mNameError\u001b[0m: name 'url' is not defined"
     ]
    }
   ],
   "source": [
    "results = requests.get(url).json()"
   ]
  },
  {
   "cell_type": "code",
   "execution_count": null,
   "metadata": {},
   "outputs": [],
   "source": [
    "# function that extracts the category of the venue\n",
    "def get_category_type(row):\n",
    "    try:\n",
    "        categories_list = row['categories']\n",
    "    except:\n",
    "        categories_list = row['venue.categories']\n",
    "        \n",
    "    if len(categories_list) == 0:\n",
    "        return None\n",
    "    else:\n",
    "        return categories_list[0]['name']"
   ]
  },
  {
   "cell_type": "code",
   "execution_count": null,
   "metadata": {},
   "outputs": [],
   "source": [
    "\n",
    "# clean the json and structure it into a pandas dataframe.\n",
    "venues = results['response']['groups'][0]['items']\n",
    "    \n",
    "nearby_venues = json_normalize(venues) # flatten JSON\n",
    "\n",
    "# filter columns\n",
    "filtered_columns = ['venue.name', 'venue.categories', 'venue.location.lat', 'venue.location.lng']\n",
    "nearby_venues =nearby_venues.loc[:, filtered_columns]\n",
    "\n",
    "# filter the category for each row\n",
    "nearby_venues['venue.categories'] = nearby_venues.apply(get_category_type, axis=1)\n",
    "\n",
    "# clean columns\n",
    "nearby_venues.columns = [col.split(\".\")[-1] for col in nearby_venues.columns]\n",
    "\n",
    "nearby_venues.head()"
   ]
  },
  {
   "cell_type": "code",
   "execution_count": null,
   "metadata": {},
   "outputs": [],
   "source": [
    "print('{} venues were returned by Foursquare.'.format(nearby_venues.shape[0]))"
   ]
  },
  {
   "cell_type": "code",
   "execution_count": null,
   "metadata": {},
   "outputs": [],
   "source": [
    "# NY repreat\n",
    "\n",
    "def getNearbyVenues(names, latitudes, longitudes, radius=500):\n",
    "    \n",
    "    venues_list=[]\n",
    "    for name, lat, lng in zip(names, latitudes, longitudes):\n",
    "        print(name)\n",
    "            \n",
    "        # create the API request URL\n",
    "        url = 'https://api.foursquare.com/v2/venues/explore?&client_id={}&client_secret={}&v={}&ll={},{}&radius={}&limit={}'.format(\n",
    "            CLIENT_ID, \n",
    "            CLIENT_SECRET, \n",
    "            VERSION, \n",
    "            lat, \n",
    "            lng, \n",
    "            radius, \n",
    "            LIMIT)\n",
    "            \n",
    "        # make the GET request\n",
    "        results = requests.get(url).json()[\"response\"]['groups'][0]['items']\n",
    "        \n",
    "        # return only relevant information for each nearby venue\n",
    "        venues_list.append([(\n",
    "            name, \n",
    "            lat, \n",
    "            lng, \n",
    "            v['venue']['name'], \n",
    "            v['venue']['location']['lat'], \n",
    "            v['venue']['location']['lng'],  \n",
    "            v['venue']['categories'][0]['name']) for v in results])\n",
    "\n",
    "    nearby_venues = pd.DataFrame([item for venue_list in venues_list for item in venue_list])\n",
    "    nearby_venues.columns = ['Neighbourhood', \n",
    "                  'Neighbourhood Latitude', \n",
    "                  'Neighbourhood Longitude', \n",
    "                  'Venue', \n",
    "                  'Venue Latitude', \n",
    "                  'Venue Longitude', \n",
    "                  'Venue Category']\n",
    "    \n",
    "    return(nearby_venues)"
   ]
  },
  {
   "cell_type": "code",
   "execution_count": null,
   "metadata": {},
   "outputs": [],
   "source": [
    "toronto_venues = getNearbyVenues(names=toronto_df['Neighbourhood'],\n",
    "                                   latitudes=toronto_df['Latitude'],\n",
    "                                   longitudes=toronto_df['Longitude']\n",
    "                                  )"
   ]
  },
  {
   "cell_type": "code",
   "execution_count": null,
   "metadata": {},
   "outputs": [],
   "source": [
    "\n",
    "# we check the size of the resulting dataframe\n",
    "print(toronto_venues.shape)\n",
    "toronto_venues.head()"
   ]
  },
  {
   "cell_type": "code",
   "execution_count": null,
   "metadata": {},
   "outputs": [],
   "source": [
    "toronto_venues.groupby('Neighbourhood').count()# check how many venues were returned for each neighborhood\n",
    "print('There are {} uniques categories.'.format(len(toronto_venues['Venue Category'].unique())))\n"
   ]
  },
  {
   "cell_type": "markdown",
   "metadata": {},
   "source": [
    "ananlysis each  Neighborhood"
   ]
  },
  {
   "cell_type": "code",
   "execution_count": null,
   "metadata": {},
   "outputs": [],
   "source": [
    "# one hot encoding\n",
    "toronto_onehot = pd.get_dummies(toronto_venues[['Venue Category']], prefix=\"\", prefix_sep=\"\")\n",
    "\n",
    "# add neighborhood column back to dataframe\n",
    "toronto_onehot['Neighbourhood'] = toronto_venues['Neighbourhood'] \n",
    "\n",
    "# move neighborhood column to the first column\n",
    "fixed_columns = [toronto_onehot.columns[-1]] + list(toronto_onehot.columns[:-1])\n",
    "toronto_onehot = toronto_onehot[fixed_columns]\n",
    "\n",
    "toronto_onehot.head()"
   ]
  },
  {
   "cell_type": "code",
   "execution_count": null,
   "metadata": {},
   "outputs": [],
   "source": [
    "# group rows by neighborhood and by taking the mean of the frequency of occurrence of each category and confirm the new size\n",
    "toronto_grouped = toronto_onehot.groupby('Neighbourhood').mean().reset_index()\n",
    "toronto_grouped"
   ]
  },
  {
   "cell_type": "markdown",
   "metadata": {},
   "source": [
    "print each neighborhood along with the top 5 most common venues"
   ]
  },
  {
   "cell_type": "code",
   "execution_count": null,
   "metadata": {},
   "outputs": [],
   "source": []
  },
  {
   "cell_type": "code",
   "execution_count": null,
   "metadata": {},
   "outputs": [],
   "source": [
    "num_top_venues = 5\n",
    "\n",
    "for hood in toronto_grouped['Neighbourhood']:\n",
    "    print(\"----\"+hood+\"----\")\n",
    "    temp = toronto_grouped[toronto_grouped['Neighbourhood'] == hood].T.reset_index()\n",
    "    temp.columns = ['venue','freq']\n",
    "    temp = temp.iloc[1:]\n",
    "    temp['freq'] = temp['freq'].astype(float)\n",
    "    temp = temp.round({'freq': 2})\n",
    "    print(temp.sort_values('freq', ascending=False).reset_index(drop=True).head(num_top_venues))\n",
    "    print('\\n')"
   ]
  },
  {
   "cell_type": "code",
   "execution_count": null,
   "metadata": {},
   "outputs": [],
   "source": [
    "\n",
    "def return_most_common_venues(row, num_top_venues):\n",
    "    row_categories = row.iloc[1:]\n",
    "    row_categories_sorted = row_categories.sort_values(ascending=False)\n",
    "    \n",
    "    return row_categories_sorted.index.values[0:num_top_venues]"
   ]
  },
  {
   "cell_type": "code",
   "execution_count": null,
   "metadata": {},
   "outputs": [],
   "source": [
    "num_top_venues = 10\n",
    "\n",
    "indicators = ['st', 'nd', 'rd']\n",
    "\n",
    "# create columns according to number of top venues\n",
    "columns = ['Neighbourhood']\n",
    "for ind in np.arange(num_top_venues):\n",
    "    try:\n",
    "        columns.append('{}{} Most Common Venue'.format(ind+1, indicators[ind]))\n",
    "    except:\n",
    "        columns.append('{}th Most Common Venue'.format(ind+1))\n",
    "\n",
    "# create a new dataframe\n",
    "neighborhoods_venues_sorted = pd.DataFrame(columns=columns)\n",
    "neighborhoods_venues_sorted['Neighbourhood'] = toronto_grouped['Neighbourhood']\n",
    "\n",
    "for ind in np.arange(toronto_grouped.shape[0]):\n",
    "    neighborhoods_venues_sorted.iloc[ind, 1:] = return_most_common_venues(toronto_grouped.iloc[ind, :], num_top_venues)\n",
    "\n",
    "neighborhoods_venues_sorted"
   ]
  },
  {
   "cell_type": "markdown",
   "metadata": {},
   "source": [
    "Cluster Neighborhoods\n",
    "\n",
    "Run k-means to cluster the neighborhood into 5 clusters"
   ]
  },
  {
   "cell_type": "code",
   "execution_count": null,
   "metadata": {},
   "outputs": [],
   "source": [
    "# set number of clusters\n",
    "kclusters = 5\n",
    "\n",
    "toronto_grouped_clustering = toronto_grouped.drop('Neighbourhood', 1)\n",
    "\n",
    "# run k-means clustering\n",
    "kmeans = KMeans(n_clusters=kclusters, random_state=0).fit(toronto_grouped_clustering)\n",
    "\n",
    "\n",
    "# check cluster labels generated for each row in the dataframe\n",
    "kmeans.labels_[0:10]"
   ]
  },
  {
   "cell_type": "code",
   "execution_count": null,
   "metadata": {},
   "outputs": [],
   "source": [
    "toronto_merged = toronto_df\n",
    "\n",
    "# add clustering labels\n",
    "toronto_merged['Cluster Labels'] = kmeans.labels_\n",
    "\n",
    "# merge toronto_grouped with toronto_data to add latitude/longitude for each neighborhood\n",
    "toronto_merged = toronto_merged.join(neighborhoods_venues_sorted.set_index('Neighbourhood'), on='Neighbourhood')\n",
    "\n",
    "toronto_merged.head() # check the last columns!"
   ]
  },
  {
   "cell_type": "code",
   "execution_count": null,
   "metadata": {},
   "outputs": [],
   "source": [
    "# create map\n",
    "map_clusters = folium.Map(location=[latitude, longitude], zoom_start=11)\n",
    "\n",
    "# set color scheme for the clusters\n",
    "x = np.arange(kclusters)\n",
    "ys = [i+x+(i*x)**2 for i in range(kclusters)]\n",
    "colors_array = cm.rainbow(np.linspace(0, 1, len(ys)))\n",
    "rainbow = [colors.rgb2hex(i) for i in colors_array]\n",
    "\n",
    "# add markers to the map\n",
    "markers_colors = []\n",
    "for lat, lon, poi, cluster in zip(toronto_merged['Latitude'], toronto_merged['Longitude'], toronto_merged['Neighbourhood'], toronto_merged['Cluster Labels']):\n",
    "    label = folium.Popup(str(poi) + ' Cluster ' + str(cluster), parse_html=True)\n",
    "    folium.CircleMarker(\n",
    "        [lat, lon],\n",
    "        radius=5,\n",
    "        popup=label,\n",
    "        color=rainbow[cluster-1],\n",
    "        fill=True,\n",
    "        fill_color=rainbow[cluster-1],\n",
    "        fill_opacity=0.7).add_to(map_clusters)\n",
    "       \n",
    "map_clusters"
   ]
  },
  {
   "cell_type": "markdown",
   "metadata": {},
   "source": [
    "Examine Clusters\n",
    "\n",
    "We examine each cluster and determine the discriminating venue categories that distinguish each cluster, and then assign a name to each cluster based on the defining category.\n",
    "\n",
    "Cluster1- characterised mostly by eateries and food joints"
   ]
  },
  {
   "cell_type": "code",
   "execution_count": null,
   "metadata": {},
   "outputs": [],
   "source": [
    "#Cluster1- characterised mostly by eateries and food joints\n",
    "toronto_merged.loc[toronto_merged['Cluster Labels'] == 0, toronto_merged.columns[[1] + list(range(5, toronto_merged.shape[1]))]]"
   ]
  },
  {
   "cell_type": "code",
   "execution_count": null,
   "metadata": {},
   "outputs": [],
   "source": [
    "#Cluster2-characterised mostly by food joints or transportation points\n",
    "toronto_merged.loc[toronto_merged['Cluster Labels'] == 1, toronto_merged.columns[[1] + list(range(5, toronto_merged.shape[1]))]]"
   ]
  }
 ],
 "metadata": {
  "kernelspec": {
   "display_name": "Python 3",
   "language": "python",
   "name": "python3"
  },
  "language_info": {
   "codemirror_mode": {
    "name": "ipython",
    "version": 3
   },
   "file_extension": ".py",
   "mimetype": "text/x-python",
   "name": "python",
   "nbconvert_exporter": "python",
   "pygments_lexer": "ipython3",
   "version": "3.7.0"
  }
 },
 "nbformat": 4,
 "nbformat_minor": 2
}
